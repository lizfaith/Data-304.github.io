{
  "cells": [
    {
      "cell_type": "markdown",
      "metadata": {},
      "source": [
        "## QUESTION 2\n"
      ],
      "id": "ed925eba"
    },
    {
      "cell_type": "code",
      "metadata": {},
      "source": [
        "import pandas as pd\n",
        "import altair as alt\n",
        "from vega_datasets import data"
      ],
      "id": "0ac8eb83",
      "execution_count": null,
      "outputs": []
    },
    {
      "cell_type": "code",
      "metadata": {},
      "source": [
        "# Load gas price data and countries data\n",
        "gasoline = pd.read_csv(\"gas_prices.csv\")\n",
        "world = pd.read_csv(\"all.csv\")"
      ],
      "id": "3bae3a69",
      "execution_count": null,
      "outputs": []
    },
    {
      "cell_type": "code",
      "metadata": {},
      "source": [
        "# Rename name to country\n",
        "regions = world.rename(columns={\"name\" : \"country\"})\n",
        "regions.head()"
      ],
      "id": "6bed494d",
      "execution_count": null,
      "outputs": []
    },
    {
      "cell_type": "code",
      "metadata": {},
      "source": [
        "# Create a new data frame called region\n",
        "region =regions[[\"country\",\"region\",\"alpha-3\"]]\n",
        "region.head()"
      ],
      "id": "d65c6f36",
      "execution_count": null,
      "outputs": []
    },
    {
      "cell_type": "code",
      "metadata": {},
      "source": [
        "# Merge gas prices with countries data\n",
        "gas_prices_merged = region.merge(gasoline, how='left', on='country')\n",
        "gas_prices_merged = gas_prices_merged.drop_duplicates().drop(8)"
      ],
      "id": "dad448ea",
      "execution_count": null,
      "outputs": []
    },
    {
      "cell_type": "code",
      "metadata": {},
      "source": [
        "# Convert gas prices from liters to gallons\n",
        "gas_prices_merged['2004':'2016'] = gas_prices_merged['2004':'2016'].apply(pd.to_numeric, errors='coerce') * 3.78541"
      ],
      "id": "0d2da2b0",
      "execution_count": null,
      "outputs": []
    },
    {
      "cell_type": "code",
      "metadata": {},
      "source": [
        "# Gas prices over time\n",
        "chart = alt.Chart(gas_prices_merged).mark_bar().encode(\n",
        "    x='year:O',\n",
        "    y=alt.Y('value:Q', title='Gas Price per Liter', aggregate ='mean'),\n",
        "    color='region:N'\n",
        ").properties(\n",
        "    height=300,\n",
        "    width=400,\n",
        "    title='Gasoline Prices Over Time by Region'\n",
        ").facet(\n",
        "    row=\"region\"\n",
        ").transform_fold(\n",
        "    fold=['2000', '2005', '2006', '2007', '2008', '2009', '2010', '2011', '2012', '2013', '2014', '2015', '2016'],\n",
        "    as_=['year', 'value']\n",
        ")\n",
        "\n",
        "chart"
      ],
      "id": "387ba7e0",
      "execution_count": null,
      "outputs": []
    }
  ],
  "metadata": {
    "kernelspec": {
      "name": "python3",
      "language": "python",
      "display_name": "Python 3 (ipykernel)"
    }
  },
  "nbformat": 4,
  "nbformat_minor": 5
}